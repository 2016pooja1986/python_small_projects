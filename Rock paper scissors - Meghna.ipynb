{
 "cells": [
  {
   "cell_type": "code",
   "execution_count": 31,
   "id": "dee29804",
   "metadata": {},
   "outputs": [],
   "source": [
    "import random\n",
    "def winner(a,b):\n",
    "    if a==b:\n",
    "        return \"It's a tie!\"\n",
    "    elif ((a == \"rock\" and b == \"scissors\") or (a == \"paper\" and b == \"rock\") or (a == \"scissors\" and b == \"paper\")):\n",
    "        return \"You win this round!\"\n",
    "    else:\n",
    "        return \"Computer wins this round!\"\n",
    "\n",
    "def round_result(r,x,y):\n",
    "    if 'tie' in r:\n",
    "        print(r)\n",
    "    elif 'You' in r:\n",
    "        print(r)\n",
    "        x +=1\n",
    "    else:\n",
    "        print(r)\n",
    "        y +=1\n",
    "    return x,y\n",
    "\n",
    "def final_result(m1,m2):\n",
    "    if m1>m2:\n",
    "        print(\"You are the winner\",m1)\n",
    "    elif m1==m2:\n",
    "        print(\"It's a tie\",m1)\n",
    "    else:\n",
    "        print(\"Computer is the winner\",m2)"
   ]
  },
  {
   "cell_type": "code",
   "execution_count": 33,
   "id": "fcc7d29a",
   "metadata": {},
   "outputs": [
    {
     "name": "stdout",
     "output_type": "stream",
     "text": [
      "******************************************************\n",
      "                      Round 1                    \n",
      "******************************************************\n",
      "\n",
      "Computer chose rock\n",
      "rock, paper or scissors? pick one- paper\n",
      "You win this round!\n",
      "******************************************************\n",
      "                      Round 2                    \n",
      "******************************************************\n",
      "\n",
      "Computer chose paper\n",
      "rock, paper or scissors? pick one- scissors\n",
      "You win this round!\n",
      "******************************************************\n",
      "                      Round 3                    \n",
      "******************************************************\n",
      "\n",
      "Computer chose paper\n",
      "rock, paper or scissors? pick one- scissors\n",
      "You win this round!\n",
      "You are the winner 3\n"
     ]
    }
   ],
   "source": [
    "rounds=3\n",
    "mark1=0\n",
    "mark2=0\n",
    "lst=[\"rock\", \"paper\", \"scissors\"]\n",
    "for i in range(rounds):\n",
    "    print(\"******************************************************\")\n",
    "    print(f\"                      Round {i+1}                    \")\n",
    "    print(\"******************************************************\\n\")\n",
    "    \n",
    "    \n",
    "\n",
    "    player2= random.choice(lst)\n",
    "    print(f\"Computer chose {player2}\") \n",
    "    player1= input(\"rock, paper or scissors? pick one- \").lower()\n",
    "    result=winner(player1,player2)\n",
    "    mark1,mark2=round_result(result,mark1,mark2)\n",
    "\n",
    "final_result(mark1,mark2)\n",
    "\n"
   ]
  },
  {
   "cell_type": "code",
   "execution_count": null,
   "id": "e8d79447",
   "metadata": {},
   "outputs": [],
   "source": []
  }
 ],
 "metadata": {
  "kernelspec": {
   "display_name": "Python 3 (ipykernel)",
   "language": "python",
   "name": "python3"
  },
  "language_info": {
   "codemirror_mode": {
    "name": "ipython",
    "version": 3
   },
   "file_extension": ".py",
   "mimetype": "text/x-python",
   "name": "python",
   "nbconvert_exporter": "python",
   "pygments_lexer": "ipython3",
   "version": "3.11.5"
  }
 },
 "nbformat": 4,
 "nbformat_minor": 5
}
