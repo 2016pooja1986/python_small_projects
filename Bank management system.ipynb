{
 "cells": [
  {
   "cell_type": "code",
   "execution_count": 1,
   "id": "9a7d27dd",
   "metadata": {},
   "outputs": [],
   "source": [
    "import os\n",
    "\n",
    "def main():\n",
    "    print(\"-\"*50)\n",
    "    print(\"                     BANK MANGEMENT SYSTEM                        \")\n",
    "    print(\"------------------------------------------------------------------\")\n",
    "    option={1:'New Customer',2:'Existing Customer',3:'Exit'}\n",
    "    print(\"Please choose any one option\")\n",
    "    for i,j in option.items():\n",
    "        print(i,\". \",j)\n",
    "    op=int(input(\"Enter the choice from 1 to 3 : \"))\n",
    "    services(op)\n",
    "    \n"
   ]
  },
  {
   "cell_type": "code",
   "execution_count": 2,
   "id": "1395eac0",
   "metadata": {},
   "outputs": [],
   "source": [
    "def new_customer():\n",
    "    global data\n",
    "    print(\"Enter the below information about new customer\")\n",
    "    ac_no = input(\"Account no.  :   \")   \n",
    "    name = input(\"Customer_name :   \")\n",
    "    add = input(\"Address        :   \")\n",
    "    ph_no= int(input(\"Phone no. :   \"))        \n",
    "    gov_id = input(\"Govt. ID    :   \")         \n",
    "    ac_type= input(\"Account type:   \")       \n",
    "    amt = int(input(\"Amount(Rs) :   \"))\n",
    "    data[ac_no] ={'name':name,'address':add,'ph_no':ph_no,'gov_id':gov_id,'type':ac_type,'amount':amt}\n",
    "    print(\"A/c has created\") \n",
    "    ch = input(\"More account to create (Y/N)? : \")\n",
    "    if ch.upper()=='Y':\n",
    "        new_customer()\n",
    "    else:\n",
    "        main()\n",
    "def existing_customer():\n",
    "    global data\n",
    "    print(data)\n",
    "    no =input(\"Account no.  :   \")\n",
    "\n",
    "    data1=data\n",
    "    if no in data1.keys():\n",
    "        print(\"Record found. Customer name : \",data1[no]['name'])\n",
    "        option1={1:'Check Balance',2:'Deposit',3:'Withdraw'}\n",
    "        for i,j in option1.items():\n",
    "            print(i,\". \",j)\n",
    "        op1=int(input(\"Enter the choice : \"))\n",
    "        sub_service(op1,data1,no)        \n",
    "    else:\n",
    "        print(\"Record not found\")\n",
    "              \n",
    "def sub_service(m,d,ac):\n",
    "    amt = d[ac]['amount']\n",
    "    if m ==1:\n",
    "        print(\"Available Balance = Rs \",amt)\n",
    "    if m==2:\n",
    "        dep= int(input(\"Enter the amount to deposit = Rs \"))\n",
    "        amt += dep\n",
    "        print(\"Deposite successful \\n Available Balance = Rs \",amt,\"\\n------------------------------------------------------------------\")\n",
    "        d[ac]['amount']= amt\n",
    "   \n",
    "    if m==3:\n",
    "        withdraw(amt,ac)\n",
    "   \n",
    "    if m>3:\n",
    "        print(\"Please enter the valid option\")\n",
    "        op2=int(input(\"Enter the choice : \"))\n",
    "        sub_service(op2,d,ac)\n",
    "        \n",
    "def withdraw(amt,ac):\n",
    "    wid= int(input(\"Enter the amount withdraw = Rs \"))\n",
    "    if wid>amt:\n",
    "        print(f\"You do not have enough balance to withdraw,your current balance is {amt}\")\n",
    "        withdraw(amt,ac)\n",
    "    else:    \n",
    "        amt -= wid\n",
    "        print(\"Withdraw successful \\n Available Balance = Rs \",amt,\"\\n------------------------------------------------------------------\")\n",
    "        data[ac]['amount']= amt\n",
    "    \n",
    "def services(n):\n",
    "    if n ==1:\n",
    "        new_customer()     \n",
    "        \n",
    "    if n==2:\n",
    "        existing_customer()\n",
    "    if n==3:\n",
    "        exit()\n",
    "    if n>3:\n",
    "        print(\"Please enter the valid option\")\n",
    "        \n",
    "    \n",
    "    c = input(\"Do you want to continue Y or N ? \")\n",
    "    again(c)\n",
    "    \n",
    "def again(a):    \n",
    "    if a.upper()== 'Y':\n",
    "        main()\n",
    "    elif a.upper()== 'N':\n",
    "        exit()\n",
    "    else:\n",
    "        print(\"Please enter the valid option\")\n",
    "        b = input(\"Do you want to continue Y or N ? \")\n",
    "        again(b)\n",
    "    \n"
   ]
  },
  {
   "cell_type": "code",
   "execution_count": 2,
   "id": "fdf16596",
   "metadata": {},
   "outputs": [
    {
     "name": "stdout",
     "output_type": "stream",
     "text": [
      "------------------------------\n",
      "                     BANK MANGEMENT SYSTEM                        \n",
      "------------------------------------------------------------------\n",
      "Please choose any one option\n",
      "1 .  New Customer\n",
      "2 .  Existing Customer\n",
      "3 .  Exit\n"
     ]
    },
    {
     "ename": "KeyboardInterrupt",
     "evalue": "Interrupted by user",
     "output_type": "error",
     "traceback": [
      "\u001b[1;31m---------------------------------------------------------------------------\u001b[0m",
      "\u001b[1;31mKeyboardInterrupt\u001b[0m                         Traceback (most recent call last)",
      "Cell \u001b[1;32mIn[2], line 2\u001b[0m\n\u001b[0;32m      1\u001b[0m data \u001b[38;5;241m=\u001b[39m {}\n\u001b[1;32m----> 2\u001b[0m main()\n",
      "Cell \u001b[1;32mIn[1], line 11\u001b[0m, in \u001b[0;36mmain\u001b[1;34m()\u001b[0m\n\u001b[0;32m      9\u001b[0m \u001b[38;5;28;01mfor\u001b[39;00m i,j \u001b[38;5;129;01min\u001b[39;00m option\u001b[38;5;241m.\u001b[39mitems():\n\u001b[0;32m     10\u001b[0m     \u001b[38;5;28mprint\u001b[39m(i,\u001b[38;5;124m\"\u001b[39m\u001b[38;5;124m. \u001b[39m\u001b[38;5;124m\"\u001b[39m,j)\n\u001b[1;32m---> 11\u001b[0m op\u001b[38;5;241m=\u001b[39m\u001b[38;5;28mint\u001b[39m(\u001b[38;5;28minput\u001b[39m(\u001b[38;5;124m\"\u001b[39m\u001b[38;5;124mEnter the choice from 1 to 3 : \u001b[39m\u001b[38;5;124m\"\u001b[39m))\n\u001b[0;32m     12\u001b[0m services(op)\n",
      "File \u001b[1;32m~\\anaconda3\\Lib\\site-packages\\ipykernel\\kernelbase.py:1202\u001b[0m, in \u001b[0;36mKernel.raw_input\u001b[1;34m(self, prompt)\u001b[0m\n\u001b[0;32m   1200\u001b[0m     msg \u001b[38;5;241m=\u001b[39m \u001b[38;5;124m\"\u001b[39m\u001b[38;5;124mraw_input was called, but this frontend does not support input requests.\u001b[39m\u001b[38;5;124m\"\u001b[39m\n\u001b[0;32m   1201\u001b[0m     \u001b[38;5;28;01mraise\u001b[39;00m StdinNotImplementedError(msg)\n\u001b[1;32m-> 1202\u001b[0m \u001b[38;5;28;01mreturn\u001b[39;00m \u001b[38;5;28mself\u001b[39m\u001b[38;5;241m.\u001b[39m_input_request(\n\u001b[0;32m   1203\u001b[0m     \u001b[38;5;28mstr\u001b[39m(prompt),\n\u001b[0;32m   1204\u001b[0m     \u001b[38;5;28mself\u001b[39m\u001b[38;5;241m.\u001b[39m_parent_ident[\u001b[38;5;124m\"\u001b[39m\u001b[38;5;124mshell\u001b[39m\u001b[38;5;124m\"\u001b[39m],\n\u001b[0;32m   1205\u001b[0m     \u001b[38;5;28mself\u001b[39m\u001b[38;5;241m.\u001b[39mget_parent(\u001b[38;5;124m\"\u001b[39m\u001b[38;5;124mshell\u001b[39m\u001b[38;5;124m\"\u001b[39m),\n\u001b[0;32m   1206\u001b[0m     password\u001b[38;5;241m=\u001b[39m\u001b[38;5;28;01mFalse\u001b[39;00m,\n\u001b[0;32m   1207\u001b[0m )\n",
      "File \u001b[1;32m~\\anaconda3\\Lib\\site-packages\\ipykernel\\kernelbase.py:1245\u001b[0m, in \u001b[0;36mKernel._input_request\u001b[1;34m(self, prompt, ident, parent, password)\u001b[0m\n\u001b[0;32m   1242\u001b[0m \u001b[38;5;28;01mexcept\u001b[39;00m \u001b[38;5;167;01mKeyboardInterrupt\u001b[39;00m:\n\u001b[0;32m   1243\u001b[0m     \u001b[38;5;66;03m# re-raise KeyboardInterrupt, to truncate traceback\u001b[39;00m\n\u001b[0;32m   1244\u001b[0m     msg \u001b[38;5;241m=\u001b[39m \u001b[38;5;124m\"\u001b[39m\u001b[38;5;124mInterrupted by user\u001b[39m\u001b[38;5;124m\"\u001b[39m\n\u001b[1;32m-> 1245\u001b[0m     \u001b[38;5;28;01mraise\u001b[39;00m \u001b[38;5;167;01mKeyboardInterrupt\u001b[39;00m(msg) \u001b[38;5;28;01mfrom\u001b[39;00m \u001b[38;5;28;01mNone\u001b[39;00m\n\u001b[0;32m   1246\u001b[0m \u001b[38;5;28;01mexcept\u001b[39;00m \u001b[38;5;167;01mException\u001b[39;00m:\n\u001b[0;32m   1247\u001b[0m     \u001b[38;5;28mself\u001b[39m\u001b[38;5;241m.\u001b[39mlog\u001b[38;5;241m.\u001b[39mwarning(\u001b[38;5;124m\"\u001b[39m\u001b[38;5;124mInvalid Message:\u001b[39m\u001b[38;5;124m\"\u001b[39m, exc_info\u001b[38;5;241m=\u001b[39m\u001b[38;5;28;01mTrue\u001b[39;00m)\n",
      "\u001b[1;31mKeyboardInterrupt\u001b[0m: Interrupted by user"
     ]
    }
   ],
   "source": [
    "data = {}\n",
    "main()"
   ]
  },
  {
   "cell_type": "code",
   "execution_count": 4,
   "id": "c61243d5",
   "metadata": {},
   "outputs": [
    {
     "name": "stdout",
     "output_type": "stream",
     "text": [
      "['C:\\\\Users\\\\Asus\\\\Downloads\\\\Python projects', 'C:\\\\Users\\\\Asus\\\\anaconda3\\\\python311.zip', 'C:\\\\Users\\\\Asus\\\\anaconda3\\\\DLLs', 'C:\\\\Users\\\\Asus\\\\anaconda3\\\\Lib', 'C:\\\\Users\\\\Asus\\\\anaconda3', '', 'C:\\\\Users\\\\Asus\\\\anaconda3\\\\Lib\\\\site-packages', 'C:\\\\Users\\\\Asus\\\\anaconda3\\\\Lib\\\\site-packages\\\\win32', 'C:\\\\Users\\\\Asus\\\\anaconda3\\\\Lib\\\\site-packages\\\\win32\\\\lib', 'C:\\\\Users\\\\Asus\\\\anaconda3\\\\Lib\\\\site-packages\\\\Pythonwin']\n"
     ]
    }
   ],
   "source": [
    "import sys\n",
    "print (sys.path)"
   ]
  },
  {
   "cell_type": "code",
   "execution_count": 5,
   "id": "ee7cebb8",
   "metadata": {},
   "outputs": [
    {
     "name": "stdout",
     "output_type": "stream",
     "text": [
      "Monday, 25 December 2023\n"
     ]
    }
   ],
   "source": [
    "import datetime\n",
    "current_datetime = datetime.datetime.now()\n",
    "formatted_date = current_datetime.strftime('%A, %d %B %Y')\n",
    "print(formatted_date)"
   ]
  },
  {
   "cell_type": "code",
   "execution_count": 7,
   "id": "67399549",
   "metadata": {},
   "outputs": [
    {
     "name": "stdout",
     "output_type": "stream",
     "text": [
      "379\n"
     ]
    }
   ],
   "source": [
    "import datetime\n",
    "date1 = datetime.date(2022, 10, 1)\n",
    "date2 = datetime.date(2023, 10, 15)\n",
    "diff = date2 - date1\n",
    "print(diff.days)"
   ]
  },
  {
   "cell_type": "code",
   "execution_count": 8,
   "id": "b6254f86",
   "metadata": {},
   "outputs": [
    {
     "name": "stdout",
     "output_type": "stream",
     "text": [
      "2022-12-25 00:00:00\n"
     ]
    }
   ],
   "source": [
    "import datetime\n",
    "date_string = '2022-12-25'\n",
    "converted_date = datetime.datetime.strptime(date_string, '%Y-%m-%d')\n",
    "print(converted_date)"
   ]
  },
  {
   "cell_type": "code",
   "execution_count": 9,
   "id": "0fb3b03e",
   "metadata": {},
   "outputs": [
    {
     "name": "stdout",
     "output_type": "stream",
     "text": [
      "2023-12-25 17:26:53.235742\n"
     ]
    }
   ],
   "source": [
    "import datetime\n",
    "current_datetime = datetime.datetime.now()\n",
    "print(current_datetime)"
   ]
  },
  {
   "cell_type": "code",
   "execution_count": 10,
   "id": "79601274",
   "metadata": {},
   "outputs": [
    {
     "name": "stdout",
     "output_type": "stream",
     "text": [
      "17:27:18.515008\n"
     ]
    }
   ],
   "source": [
    "import datetime\n",
    "current_time = datetime.datetime.now().time()\n",
    "print(current_time)"
   ]
  },
  {
   "cell_type": "code",
   "execution_count": 11,
   "id": "0fbd6378",
   "metadata": {},
   "outputs": [
    {
     "name": "stdout",
     "output_type": "stream",
     "text": [
      "2023-05-01 08:30:00\n"
     ]
    }
   ],
   "source": [
    "import datetime\n",
    "date = datetime.date(2023, 5, 1)\n",
    "time = datetime.time(8, 30)\n",
    "combined_datetime = datetime.datetime.combine(date, time)\n",
    "print(combined_datetime)\n"
   ]
  },
  {
   "cell_type": "raw",
   "id": "6863a9ef",
   "metadata": {},
   "source": [
    "%H: Hour (00 to 23) - Example: current_datetime.strftime('%H')\n",
    "%M: Minute (00 to 59) - Example: current_datetime.strftime('%M')\n",
    "%S: Second (00 to 59) - Example: current_datetime.strftime('%S')\n",
    "%I: Hour (00 to 12) - Example: current_datetime.strftime('%I')\n",
    "%p: AM or PM - Example: current_datetime.strftime('%p')\n",
    "%A: Weekday (full) - Example: current_datetime.strftime('%A')\n",
    "%a: Weekday (abbreviated) - Example: current_datetime.strftime('%a')\n",
    "%Y: Year (four digits) - Example: current_datetime.strftime('%Y')\n",
    "%y: Year (two digits) - Example: current_datetime.strftime('%y')\n",
    "%m: Month (01 to 12) - Example: current_datetime.strftime('%m')\n",
    "%b: Month (abbreviated) - Example: current_datetime.strftime('%b')\n",
    "%B: Month (full) - Example: current_datetime.strftime('%B')\n",
    "%d: Day of the month (01 to 31) - Example: current_datetime.strftime('%d')\n",
    "%j: Day of the year (001 to 366) - Example: current_datetime.strftime('%j')"
   ]
  },
  {
   "cell_type": "code",
   "execution_count": 12,
   "id": "d2ad441f",
   "metadata": {},
   "outputs": [
    {
     "name": "stdout",
     "output_type": "stream",
     "text": [
      "    October 2023\n",
      "Mo Tu We Th Fr Sa Su\n",
      "                   1\n",
      " 2  3  4  5  6  7  8\n",
      " 9 10 11 12 13 14 15\n",
      "16 17 18 19 20 21 22\n",
      "23 24 25 26 27 28 29\n",
      "30 31\n",
      "\n"
     ]
    }
   ],
   "source": [
    "import calendar\n",
    "cal = calendar.month(2023, 10)\n",
    "print(cal)"
   ]
  },
  {
   "cell_type": "code",
   "execution_count": 13,
   "id": "5b74129a",
   "metadata": {},
   "outputs": [
    {
     "name": "stdout",
     "output_type": "stream",
     "text": [
      "                                  2023\n",
      "\n",
      "      January                   February                   March\n",
      "Mo Tu We Th Fr Sa Su      Mo Tu We Th Fr Sa Su      Mo Tu We Th Fr Sa Su\n",
      "                   1             1  2  3  4  5             1  2  3  4  5\n",
      " 2  3  4  5  6  7  8       6  7  8  9 10 11 12       6  7  8  9 10 11 12\n",
      " 9 10 11 12 13 14 15      13 14 15 16 17 18 19      13 14 15 16 17 18 19\n",
      "16 17 18 19 20 21 22      20 21 22 23 24 25 26      20 21 22 23 24 25 26\n",
      "23 24 25 26 27 28 29      27 28                     27 28 29 30 31\n",
      "30 31\n",
      "\n",
      "       April                      May                       June\n",
      "Mo Tu We Th Fr Sa Su      Mo Tu We Th Fr Sa Su      Mo Tu We Th Fr Sa Su\n",
      "                1  2       1  2  3  4  5  6  7                1  2  3  4\n",
      " 3  4  5  6  7  8  9       8  9 10 11 12 13 14       5  6  7  8  9 10 11\n",
      "10 11 12 13 14 15 16      15 16 17 18 19 20 21      12 13 14 15 16 17 18\n",
      "17 18 19 20 21 22 23      22 23 24 25 26 27 28      19 20 21 22 23 24 25\n",
      "24 25 26 27 28 29 30      29 30 31                  26 27 28 29 30\n",
      "\n",
      "        July                     August                  September\n",
      "Mo Tu We Th Fr Sa Su      Mo Tu We Th Fr Sa Su      Mo Tu We Th Fr Sa Su\n",
      "                1  2          1  2  3  4  5  6                   1  2  3\n",
      " 3  4  5  6  7  8  9       7  8  9 10 11 12 13       4  5  6  7  8  9 10\n",
      "10 11 12 13 14 15 16      14 15 16 17 18 19 20      11 12 13 14 15 16 17\n",
      "17 18 19 20 21 22 23      21 22 23 24 25 26 27      18 19 20 21 22 23 24\n",
      "24 25 26 27 28 29 30      28 29 30 31               25 26 27 28 29 30\n",
      "31\n",
      "\n",
      "      October                   November                  December\n",
      "Mo Tu We Th Fr Sa Su      Mo Tu We Th Fr Sa Su      Mo Tu We Th Fr Sa Su\n",
      "                   1             1  2  3  4  5                   1  2  3\n",
      " 2  3  4  5  6  7  8       6  7  8  9 10 11 12       4  5  6  7  8  9 10\n",
      " 9 10 11 12 13 14 15      13 14 15 16 17 18 19      11 12 13 14 15 16 17\n",
      "16 17 18 19 20 21 22      20 21 22 23 24 25 26      18 19 20 21 22 23 24\n",
      "23 24 25 26 27 28 29      27 28 29 30               25 26 27 28 29 30 31\n",
      "30 31\n"
     ]
    }
   ],
   "source": [
    "import calendar\n",
    "calendar.prcal(2023)"
   ]
  },
  {
   "cell_type": "code",
   "execution_count": 14,
   "id": "b6b60b97",
   "metadata": {},
   "outputs": [
    {
     "name": "stdout",
     "output_type": "stream",
     "text": [
      "6\n"
     ]
    }
   ],
   "source": [
    "import calendar\n",
    "day_of_week = calendar.weekday(2023, 10, 15)\n",
    "print(day_of_week)\n"
   ]
  },
  {
   "cell_type": "code",
   "execution_count": 15,
   "id": "aa4f5e99",
   "metadata": {},
   "outputs": [
    {
     "name": "stdout",
     "output_type": "stream",
     "text": [
      "False\n"
     ]
    }
   ],
   "source": [
    "import calendar\n",
    "is_leap = calendar.isleap(2023)\n",
    "print(is_leap)"
   ]
  },
  {
   "cell_type": "code",
   "execution_count": 19,
   "id": "b41871fb",
   "metadata": {},
   "outputs": [
    {
     "name": "stdout",
     "output_type": "stream",
     "text": [
      "December\n"
     ]
    }
   ],
   "source": [
    "import calendar\n",
    "print(calendar.month_name[12])"
   ]
  },
  {
   "cell_type": "code",
   "execution_count": 17,
   "id": "6eeaa4b5",
   "metadata": {},
   "outputs": [
    {
     "name": "stdout",
     "output_type": "stream",
     "text": [
      "Monday\n"
     ]
    }
   ],
   "source": [
    "import calendar\n",
    "print(calendar.day_name[0])"
   ]
  },
  {
   "cell_type": "code",
   "execution_count": null,
   "id": "d45bd6f8",
   "metadata": {},
   "outputs": [],
   "source": []
  }
 ],
 "metadata": {
  "kernelspec": {
   "display_name": "Python 3 (ipykernel)",
   "language": "python",
   "name": "python3"
  },
  "language_info": {
   "codemirror_mode": {
    "name": "ipython",
    "version": 3
   },
   "file_extension": ".py",
   "mimetype": "text/x-python",
   "name": "python",
   "nbconvert_exporter": "python",
   "pygments_lexer": "ipython3",
   "version": "3.11.5"
  }
 },
 "nbformat": 4,
 "nbformat_minor": 5
}
