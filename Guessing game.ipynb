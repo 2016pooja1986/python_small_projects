{
 "cells": [
  {
   "cell_type": "markdown",
   "id": "9632bb86",
   "metadata": {},
   "source": [
    "# project\n",
    "Generate a random number using the random module. Ask the user to guess a number and use a while loop to allow them to keep guessing until they either guess the correct number or run out of attempts. Use if-else statements to check if the user's guess is correct and provide appropriate feedback (e.g., \"Too high\" or \"Too low\"). Implement a limit on the number of attempts allowed, and inform the user when they've run out of attempts."
   ]
  },
  {
   "cell_type": "code",
   "execution_count": 2,
   "id": "6ef83b31",
   "metadata": {},
   "outputs": [],
   "source": [
    "import random"
   ]
  },
  {
   "cell_type": "code",
   "execution_count": 5,
   "id": "aa9f5535",
   "metadata": {},
   "outputs": [
    {
     "name": "stdout",
     "output_type": "stream",
     "text": [
      "*********************\n",
      "    GUESSING GAME    \n",
      "*********************\n",
      "Enter the number6\n",
      "Too high\n",
      "Enter the number3\n",
      "Oops! you lost the game.\n",
      "Guessed number was 5\n"
     ]
    }
   ],
   "source": [
    "g_num = random.randint(1,10)\n",
    "choice =2\n",
    "print(\"*\"*21)\n",
    "print(\"    GUESSING GAME    \")\n",
    "print(\"*\"*21)\n",
    "for i in range(2,0,-1):\n",
    "    n= int(input(\"Enter the number\"))\n",
    "    if n==g_num:\n",
    "        print(\"Correct! You won the game\")\n",
    "        break\n",
    "    else:\n",
    "        if choice >1:\n",
    "            if n<g_num:\n",
    "                print(\"Too low\")\n",
    "            else:\n",
    "                print(\"Too high\")\n",
    "        else:\n",
    "            print(f\"Oops! you lost the game.\\nGuessed number was {g_num}\")        \n",
    "    choice-=1\n",
    "\n",
    "    \n",
    "    \n",
    "    "
   ]
  },
  {
   "cell_type": "code",
   "execution_count": null,
   "id": "6b4d3da6",
   "metadata": {},
   "outputs": [],
   "source": []
  }
 ],
 "metadata": {
  "kernelspec": {
   "display_name": "Python 3 (ipykernel)",
   "language": "python",
   "name": "python3"
  },
  "language_info": {
   "codemirror_mode": {
    "name": "ipython",
    "version": 3
   },
   "file_extension": ".py",
   "mimetype": "text/x-python",
   "name": "python",
   "nbconvert_exporter": "python",
   "pygments_lexer": "ipython3",
   "version": "3.11.5"
  }
 },
 "nbformat": 4,
 "nbformat_minor": 5
}
