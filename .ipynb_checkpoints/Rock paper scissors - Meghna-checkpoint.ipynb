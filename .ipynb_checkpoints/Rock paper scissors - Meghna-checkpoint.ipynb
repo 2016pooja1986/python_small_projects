{
 "cells": [
  {
   "cell_type": "code",
   "execution_count": 6,
   "id": "7aa02539",
   "metadata": {},
   "outputs": [
    {
     "name": "stdout",
     "output_type": "stream",
     "text": [
      "+--------+ \n",
      "|        |\n",
      "|        |\n",
      "|        |\n",
      "+--------+\n"
     ]
    }
   ],
   "source": [
    "a=\"+--------+\"\n",
    "b=\"\\n|        |\\n|        |\\n|        |\"\n",
    "print(a,b)\n",
    "print(a)"
   ]
  },
  {
   "cell_type": "code",
   "execution_count": 10,
   "id": "bd4c8ac6",
   "metadata": {},
   "outputs": [
    {
     "name": "stdout",
     "output_type": "stream",
     "text": [
      "7.375\n"
     ]
    }
   ],
   "source": [
    "h=1.6\n",
    "v=14.0\n",
    "g=9.8\n",
    "t=0.5\n",
    "print(h+v*t - 0.5*g*(t**2))"
   ]
  },
  {
   "cell_type": "code",
   "execution_count": null,
   "id": "bc889a06",
   "metadata": {},
   "outputs": [],
   "source": []
  }
 ],
 "metadata": {
  "kernelspec": {
   "display_name": "Python 3 (ipykernel)",
   "language": "python",
   "name": "python3"
  },
  "language_info": {
   "codemirror_mode": {
    "name": "ipython",
    "version": 3
   },
   "file_extension": ".py",
   "mimetype": "text/x-python",
   "name": "python",
   "nbconvert_exporter": "python",
   "pygments_lexer": "ipython3",
   "version": "3.11.5"
  }
 },
 "nbformat": 4,
 "nbformat_minor": 5
}
