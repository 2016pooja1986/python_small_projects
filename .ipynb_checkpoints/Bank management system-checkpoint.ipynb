{
 "cells": [
  {
   "cell_type": "code",
   "execution_count": 3,
   "id": "9a7d27dd",
   "metadata": {},
   "outputs": [],
   "source": [
    "import os\n",
    "\n",
    "def main():\n",
    "    print(\"------------------------------------------------------------------\")\n",
    "    print(\"                     BANK MANGEMENT SYSTEM                        \")\n",
    "    print(\"------------------------------------------------------------------\")\n",
    "    option={1:'New Customer',2:'Existing Customer',3:'Exit'}\n",
    "    print(\"Please choose any one option\")\n",
    "    for i,j in option.items():\n",
    "        print(i,\". \",j)\n",
    "    op=int(input(\"Enter the choice from 1 to 3 : \"))\n",
    "    services(op)\n",
    "    \n"
   ]
  },
  {
   "cell_type": "code",
   "execution_count": 4,
   "id": "1395eac0",
   "metadata": {},
   "outputs": [],
   "source": [
    "def new_customer():\n",
    "    global data\n",
    "    print(\"Enter the below information about new customer\")\n",
    "    ac_no = input(\"Account no.  :   \")   \n",
    "    name = input(\"Customer_name :   \")\n",
    "    add = input(\"Address        :   \")\n",
    "    ph_no= int(input(\"Phone no. :   \"))        \n",
    "    gov_id = input(\"Govt. ID    :   \")         \n",
    "    ac_type= input(\"Account type:   \")       \n",
    "    amt = int(input(\"Amount(Rs) :   \"))\n",
    "    data[ac_no] ={'name':name,'address':add,'ph_no':ph_no,'gov_id':gov_id,'type':ac_type,'amount':amt}\n",
    "    print(\"A/c has created\") \n",
    "    ch = input(\"More account to create (Y/N)? : \")\n",
    "    if ch.upper()=='Y':\n",
    "        new_customer()\n",
    "            \n",
    "def existing_customer():\n",
    "    global data\n",
    "    print(data)\n",
    "    no =input(\"Account no.  :   \")\n",
    "\n",
    "    data1=data\n",
    "    if no in data1.keys():\n",
    "        print(\"Record found. Customer name : \",data1[no]['name'])\n",
    "        option1={1:'Check Balance',2:'Deposit',3:'Withdraw'}\n",
    "        for i,j in option1.items():\n",
    "            print(i,\". \",j)\n",
    "        op1=int(input(\"Enter the choice : \"))\n",
    "        sub_service(op1,data1,no)        \n",
    "    else:\n",
    "        print(\"Record not found\")\n",
    "              \n",
    "def sub_service(m,d,ac):\n",
    "    amt = d[ac]['amount']\n",
    "    if m ==1:\n",
    "        print(\"Available Balance = Rs \",amt)\n",
    "    if m==2:\n",
    "        dep= int(input(\"Enter the amount to deposit = Rs \"))\n",
    "        amt += dep\n",
    "        print(\"Deposite successful \\n Available Balance = Rs \",amt,\"\\n------------------------------------------------------------------\")\n",
    "        d[ac]['amount']= amt\n",
    "   \n",
    "    if m==3:\n",
    "        wid= int(input(\"Enter the amount withdraw = Rs \"))\n",
    "        amt -= wid\n",
    "        print(\"Withdraw successful \\n Available Balance = Rs \",amt,\"\\n------------------------------------------------------------------\")\n",
    "        d[ac]['amount']= amt\n",
    "   \n",
    "    if m>3:\n",
    "        print(\"Please enter the valid option\")\n",
    "        op2=int(input(\"Enter the choice : \"))\n",
    "        sub_service(op2,d,ac)\n",
    "    \n",
    "def services(n):\n",
    "    if n ==1:\n",
    "        new_customer()     \n",
    "        \n",
    "    if n==2:\n",
    "        existing_customer()\n",
    "    if n==3:\n",
    "        exit()\n",
    "    if n>3:\n",
    "        print(\"Please enter the valid option\")\n",
    "        \n",
    "    \n",
    "    c = input(\"Do you want to continue Y or N ? \")\n",
    "    again(c)\n",
    "    \n",
    "def again(a):    \n",
    "    if a.upper()== 'Y':\n",
    "        main()\n",
    "    elif a.upper()== 'N':\n",
    "        exit()\n",
    "    else:\n",
    "        print(\"Please enter the valid option\")\n",
    "        b = input(\"Do you want to continue Y or N ? \")\n",
    "        again(b)\n",
    "    \n"
   ]
  },
  {
   "cell_type": "code",
   "execution_count": null,
   "id": "fdf16596",
   "metadata": {},
   "outputs": [
    {
     "name": "stdout",
     "output_type": "stream",
     "text": [
      "------------------------------------------------------------------\n",
      "                     BANK MANGEMENT SYSTEM                        \n",
      "------------------------------------------------------------------\n",
      "Please choose any one option\n",
      "1 .  New Customer\n",
      "2 .  Existing Customer\n",
      "3 .  Exit\n"
     ]
    }
   ],
   "source": [
    "data = {}\n",
    "main()"
   ]
  },
  {
   "cell_type": "code",
   "execution_count": null,
   "id": "c61243d5",
   "metadata": {},
   "outputs": [],
   "source": []
  }
 ],
 "metadata": {
  "kernelspec": {
   "display_name": "Python 3 (ipykernel)",
   "language": "python",
   "name": "python3"
  },
  "language_info": {
   "codemirror_mode": {
    "name": "ipython",
    "version": 3
   },
   "file_extension": ".py",
   "mimetype": "text/x-python",
   "name": "python",
   "nbconvert_exporter": "python",
   "pygments_lexer": "ipython3",
   "version": "3.11.5"
  }
 },
 "nbformat": 4,
 "nbformat_minor": 5
}
