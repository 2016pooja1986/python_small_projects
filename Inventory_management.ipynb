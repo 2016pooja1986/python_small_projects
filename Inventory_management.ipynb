{
 "cells": [
  {
   "cell_type": "markdown",
   "id": "9d74d5c6-6075-4e5f-b818-d8692d5773a6",
   "metadata": {},
   "source": [
    "Inventory Management: Create an inventory system for a small shop where product names are keys, and their quantities or prices are values. Implement options to add, update, and check stock levels, sold details."
   ]
  },
  {
   "cell_type": "raw",
   "id": "5438b1aa-0740-42f6-97e6-b1603fe69dc6",
   "metadata": {},
   "source": [
    "1. Add product details\n",
    "2. update product details\n",
    "3. Entry of sold product\n",
    "4. Check stock levels\n",
    "5. productwise sales\n",
    "6. overall sales report\n",
    "7. exit\n",
    "\n",
    "product_details= {'product_id':{'name':,'quantity':,'cost_price':,'marked_price':,'discount':}}\n",
    "\n",
    "sold_product = {'product_id': quantity_sold} \n",
    "\n",
    "-- whenever product will be purchased , we have to reduce that much quanty from the product_detail dictionary for particular product"
   ]
  },
  {
   "cell_type": "code",
   "execution_count": 8,
   "id": "3b6ff817-fe56-42c7-a8c7-24a971598d29",
   "metadata": {},
   "outputs": [],
   "source": [
    "\n",
    "\n",
    "def service():\n",
    "    option= int(input(\"Enter the option:::\"))\n",
    "    \n",
    "    if option==1:\n",
    "        n = int(input(\"no of product details u want to enter:::\"))\n",
    "        for i in range(n):\n",
    "            while True:\n",
    "                prod_id = input(\"Enter the product id:::\")\n",
    "                if prod_id not in product_details:\n",
    "                    break\n",
    "                else:\n",
    "                    print(\"product detials are already entered\")\n",
    "            \n",
    "            name = input(\"Enter the product name:::\")\n",
    "            quantity = int(input(\"Enter the quantity::\"))\n",
    "            cp = int(input(f\"Enter the price of {name} per item::\"))\n",
    "            mp = int(input(f\"Enter the marked price of {name} per item::\"))\n",
    "            discount= int(input(\"Enter the discount::\"))\n",
    "            product_details[prod_id]={'name':name,'quantity':quantity,'cp':cp,'mp':mp,'discount':discount}\n",
    "\n",
    "    \n",
    "    elif option==2:\n",
    "        print(\"PRODUCT DETAILS\".center(50),\"\\n\",\"*\"*50,sep=\"\")\n",
    "        print(\"Prod_id\".ljust(10),\"Name\".ljust(10),\"Quantity\".ljust(10),\"Cost price\".ljust(10),\\\n",
    "              \"Marked_price\".ljust(10),\"discount\".ljust(10))\n",
    "        for k,v in product_details.items():\n",
    "            print(k.ljust(10),product_details[k]['name'].ljust(10),str(product_details[k]['quantity']).ljust(10),\\\n",
    "                 str(product_details[k]['cp']).ljust(10),str(product_details[k]['mp']).ljust(10),str(product_details[k]['discount']).ljust(10))\n",
    "\n",
    "        \n",
    "        prod_id  = input(\"Enter the prod_id::\")\n",
    "        if prod_id in product_details:\n",
    "            change = input(\"In which field u want to change(Name/quantity/cp/mp/discount)::\").lower()\n",
    "            new_change= input(f\"Enter the update value of {change}::\")\n",
    "            if change == 'name':\n",
    "                product_details[prod_id]['name'] = new_change\n",
    "            elif change in ['quantity','cp','mp','discount']:\n",
    "                product_details[prod_id][change] = int(new_change)\n",
    "            else:\n",
    "                print(\"Invalid field name\")\n",
    "\n",
    "    elif option==3:\n",
    "        print(\"SOLD ITEM'S DETAIL\".center(50),\"\\n\",\"*\"*50,sep=\"\")\n",
    "        prod_id = input(\"Enter the product id\")\n",
    "        print(f\"product name:{product_details[prod_id]['name']}\")\n",
    "        while True:\n",
    "            quantity = int(input(\"Enter the qunatity\"))\n",
    "            if product_details[prod_id]['quantity']>quantity:\n",
    "                product_details[prod_id]['quantity'] = product_details[prod_id]['quantity']-quantity\n",
    "                break\n",
    "            else:\n",
    "                print(f\"Not enough stock in avaliable:{product_details[prod_id]['quantity']} items are present\")\n",
    "\n",
    "        sp = (product_details[prod_id]['mp']*(100-product_details[prod_id]['discount']))/100\n",
    "        amount = sp*quantity\n",
    "        loss_gain = sp-product_details[prod_id]['cp'] \n",
    "        total_loss_gain = loss_gain*quantity\n",
    "        print(f\"Total price Rs{amount}\")\n",
    "        \n",
    "        sold_prod[prod_id] = {'name':product_details[prod_id]['name'],'quantity':quantity,'sp':sp,'amount':amount,'total_loss_gain':total_loss_gain}\n",
    "    \n",
    "    elif option==7:\n",
    "        print(\"Have a nice day!\")\n",
    "        exit()\n",
    "    else:\n",
    "        print(\"Invalid option\")\n",
    "        service()\n",
    "\n",
    "    op = input(\"Do want to continue(yes/no)::\").lower()\n",
    "    if op=='yes':\n",
    "        service()\n",
    "    elif op=='no':\n",
    "        main()\n",
    "   \n",
    "    #again()\n",
    "\n",
    "        \n",
    "\n",
    "\n",
    "def main():\n",
    "    menu = {1:\"Add product details\",2:\"update product details\",3:\"Entry of sold product\",4:\"Check stock levels\",\n",
    "       5:\"productwise sales\",6:\"overall sales report\",7:\"exit\"}\n",
    "\n",
    "    print(\"*\"*50,\"\\n\",\"INVENTORY MANAGEMENT\".center(50),\"\\n\",\"*\"*50,sep=\"\")\n",
    "    for i,j in menu.items():\n",
    "        print(f\"{i}::: {j}\")\n",
    "\n",
    "    service()\n",
    "\n",
    "def again():\n",
    "    op = input(\"Do want to continue(yes/no)::\").lower()\n",
    "    if op=='yes':\n",
    "        service()\n",
    "    elif op=='no':\n",
    "        main()\n",
    "    else:\n",
    "        print(\"Invalid option\")\n",
    "        again()"
   ]
  },
  {
   "cell_type": "code",
   "execution_count": 9,
   "id": "8d3a2079-6855-43fc-88ab-f7cd4af56921",
   "metadata": {},
   "outputs": [
    {
     "name": "stdout",
     "output_type": "stream",
     "text": [
      "**************************************************\n",
      "               INVENTORY MANAGEMENT               \n",
      "**************************************************\n",
      "1::: Add product details\n",
      "2::: update product details\n",
      "3::: Entry of sold product\n",
      "4::: Check stock levels\n",
      "5::: productwise sales\n",
      "6::: overall sales report\n",
      "7::: exit\n"
     ]
    },
    {
     "name": "stdin",
     "output_type": "stream",
     "text": [
      "Enter the option::: 1\n",
      "no of product details u want to enter::: 1\n",
      "Enter the product id::: 101\n",
      "Enter the product name::: pen\n",
      "Enter the quantity:: 200\n",
      "Enter the price of pen per item:: 20\n",
      "Enter the marked price of pen per item:: 25\n",
      "Enter the discount:: 0\n",
      "Do want to continue(yes/no):: no\n"
     ]
    },
    {
     "name": "stdout",
     "output_type": "stream",
     "text": [
      "**************************************************\n",
      "               INVENTORY MANAGEMENT               \n",
      "**************************************************\n",
      "1::: Add product details\n",
      "2::: update product details\n",
      "3::: Entry of sold product\n",
      "4::: Check stock levels\n",
      "5::: productwise sales\n",
      "6::: overall sales report\n",
      "7::: exit\n"
     ]
    },
    {
     "name": "stdin",
     "output_type": "stream",
     "text": [
      "Enter the option::: 7\n"
     ]
    },
    {
     "name": "stdout",
     "output_type": "stream",
     "text": [
      "Have a nice day!\n"
     ]
    },
    {
     "name": "stdin",
     "output_type": "stream",
     "text": [
      "Do want to continue(yes/no):: no\n"
     ]
    },
    {
     "name": "stdout",
     "output_type": "stream",
     "text": [
      "**************************************************\n",
      "               INVENTORY MANAGEMENT               \n",
      "**************************************************\n",
      "1::: Add product details\n",
      "2::: update product details\n",
      "3::: Entry of sold product\n",
      "4::: Check stock levels\n",
      "5::: productwise sales\n",
      "6::: overall sales report\n",
      "7::: exit\n"
     ]
    },
    {
     "name": "stdin",
     "output_type": "stream",
     "text": [
      "Enter the option::: 7\n"
     ]
    },
    {
     "name": "stdout",
     "output_type": "stream",
     "text": [
      "Have a nice day!\n"
     ]
    },
    {
     "ename": "KeyboardInterrupt",
     "evalue": "Interrupted by user",
     "output_type": "error",
     "traceback": [
      "\u001b[1;31m---------------------------------------------------------------------------\u001b[0m",
      "\u001b[1;31mKeyboardInterrupt\u001b[0m                         Traceback (most recent call last)",
      "Cell \u001b[1;32mIn[9], line 4\u001b[0m\n\u001b[0;32m      2\u001b[0m product_details \u001b[38;5;241m=\u001b[39m{}\n\u001b[0;32m      3\u001b[0m sold_prod \u001b[38;5;241m=\u001b[39m {}\n\u001b[1;32m----> 4\u001b[0m main()\n\u001b[0;32m      5\u001b[0m \u001b[38;5;28mprint\u001b[39m(product_details)\n",
      "Cell \u001b[1;32mIn[8], line 88\u001b[0m, in \u001b[0;36mmain\u001b[1;34m()\u001b[0m\n\u001b[0;32m     85\u001b[0m \u001b[38;5;28;01mfor\u001b[39;00m i,j \u001b[38;5;129;01min\u001b[39;00m menu\u001b[38;5;241m.\u001b[39mitems():\n\u001b[0;32m     86\u001b[0m     \u001b[38;5;28mprint\u001b[39m(\u001b[38;5;124mf\u001b[39m\u001b[38;5;124m\"\u001b[39m\u001b[38;5;132;01m{\u001b[39;00mi\u001b[38;5;132;01m}\u001b[39;00m\u001b[38;5;124m::: \u001b[39m\u001b[38;5;132;01m{\u001b[39;00mj\u001b[38;5;132;01m}\u001b[39;00m\u001b[38;5;124m\"\u001b[39m)\n\u001b[1;32m---> 88\u001b[0m service()\n",
      "Cell \u001b[1;32mIn[8], line 73\u001b[0m, in \u001b[0;36mservice\u001b[1;34m()\u001b[0m\n\u001b[0;32m     71\u001b[0m     service()\n\u001b[0;32m     72\u001b[0m \u001b[38;5;28;01melif\u001b[39;00m op\u001b[38;5;241m==\u001b[39m\u001b[38;5;124m'\u001b[39m\u001b[38;5;124mno\u001b[39m\u001b[38;5;124m'\u001b[39m:\n\u001b[1;32m---> 73\u001b[0m     main()\n",
      "Cell \u001b[1;32mIn[8], line 88\u001b[0m, in \u001b[0;36mmain\u001b[1;34m()\u001b[0m\n\u001b[0;32m     85\u001b[0m \u001b[38;5;28;01mfor\u001b[39;00m i,j \u001b[38;5;129;01min\u001b[39;00m menu\u001b[38;5;241m.\u001b[39mitems():\n\u001b[0;32m     86\u001b[0m     \u001b[38;5;28mprint\u001b[39m(\u001b[38;5;124mf\u001b[39m\u001b[38;5;124m\"\u001b[39m\u001b[38;5;132;01m{\u001b[39;00mi\u001b[38;5;132;01m}\u001b[39;00m\u001b[38;5;124m::: \u001b[39m\u001b[38;5;132;01m{\u001b[39;00mj\u001b[38;5;132;01m}\u001b[39;00m\u001b[38;5;124m\"\u001b[39m)\n\u001b[1;32m---> 88\u001b[0m service()\n",
      "Cell \u001b[1;32mIn[8], line 73\u001b[0m, in \u001b[0;36mservice\u001b[1;34m()\u001b[0m\n\u001b[0;32m     71\u001b[0m     service()\n\u001b[0;32m     72\u001b[0m \u001b[38;5;28;01melif\u001b[39;00m op\u001b[38;5;241m==\u001b[39m\u001b[38;5;124m'\u001b[39m\u001b[38;5;124mno\u001b[39m\u001b[38;5;124m'\u001b[39m:\n\u001b[1;32m---> 73\u001b[0m     main()\n",
      "Cell \u001b[1;32mIn[8], line 88\u001b[0m, in \u001b[0;36mmain\u001b[1;34m()\u001b[0m\n\u001b[0;32m     85\u001b[0m \u001b[38;5;28;01mfor\u001b[39;00m i,j \u001b[38;5;129;01min\u001b[39;00m menu\u001b[38;5;241m.\u001b[39mitems():\n\u001b[0;32m     86\u001b[0m     \u001b[38;5;28mprint\u001b[39m(\u001b[38;5;124mf\u001b[39m\u001b[38;5;124m\"\u001b[39m\u001b[38;5;132;01m{\u001b[39;00mi\u001b[38;5;132;01m}\u001b[39;00m\u001b[38;5;124m::: \u001b[39m\u001b[38;5;132;01m{\u001b[39;00mj\u001b[38;5;132;01m}\u001b[39;00m\u001b[38;5;124m\"\u001b[39m)\n\u001b[1;32m---> 88\u001b[0m service()\n",
      "Cell \u001b[1;32mIn[8], line 69\u001b[0m, in \u001b[0;36mservice\u001b[1;34m()\u001b[0m\n\u001b[0;32m     66\u001b[0m     \u001b[38;5;28mprint\u001b[39m(\u001b[38;5;124m\"\u001b[39m\u001b[38;5;124mInvalid option\u001b[39m\u001b[38;5;124m\"\u001b[39m)\n\u001b[0;32m     67\u001b[0m     service()\n\u001b[1;32m---> 69\u001b[0m op \u001b[38;5;241m=\u001b[39m \u001b[38;5;28minput\u001b[39m(\u001b[38;5;124m\"\u001b[39m\u001b[38;5;124mDo want to continue(yes/no)::\u001b[39m\u001b[38;5;124m\"\u001b[39m)\u001b[38;5;241m.\u001b[39mlower()\n\u001b[0;32m     70\u001b[0m \u001b[38;5;28;01mif\u001b[39;00m op\u001b[38;5;241m==\u001b[39m\u001b[38;5;124m'\u001b[39m\u001b[38;5;124myes\u001b[39m\u001b[38;5;124m'\u001b[39m:\n\u001b[0;32m     71\u001b[0m     service()\n",
      "File \u001b[1;32m~\\anaconda3\\Lib\\site-packages\\ipykernel\\kernelbase.py:1262\u001b[0m, in \u001b[0;36mKernel.raw_input\u001b[1;34m(self, prompt)\u001b[0m\n\u001b[0;32m   1260\u001b[0m     msg \u001b[38;5;241m=\u001b[39m \u001b[38;5;124m\"\u001b[39m\u001b[38;5;124mraw_input was called, but this frontend does not support input requests.\u001b[39m\u001b[38;5;124m\"\u001b[39m\n\u001b[0;32m   1261\u001b[0m     \u001b[38;5;28;01mraise\u001b[39;00m StdinNotImplementedError(msg)\n\u001b[1;32m-> 1262\u001b[0m \u001b[38;5;28;01mreturn\u001b[39;00m \u001b[38;5;28mself\u001b[39m\u001b[38;5;241m.\u001b[39m_input_request(\n\u001b[0;32m   1263\u001b[0m     \u001b[38;5;28mstr\u001b[39m(prompt),\n\u001b[0;32m   1264\u001b[0m     \u001b[38;5;28mself\u001b[39m\u001b[38;5;241m.\u001b[39m_parent_ident[\u001b[38;5;124m\"\u001b[39m\u001b[38;5;124mshell\u001b[39m\u001b[38;5;124m\"\u001b[39m],\n\u001b[0;32m   1265\u001b[0m     \u001b[38;5;28mself\u001b[39m\u001b[38;5;241m.\u001b[39mget_parent(\u001b[38;5;124m\"\u001b[39m\u001b[38;5;124mshell\u001b[39m\u001b[38;5;124m\"\u001b[39m),\n\u001b[0;32m   1266\u001b[0m     password\u001b[38;5;241m=\u001b[39m\u001b[38;5;28;01mFalse\u001b[39;00m,\n\u001b[0;32m   1267\u001b[0m )\n",
      "File \u001b[1;32m~\\anaconda3\\Lib\\site-packages\\ipykernel\\kernelbase.py:1305\u001b[0m, in \u001b[0;36mKernel._input_request\u001b[1;34m(self, prompt, ident, parent, password)\u001b[0m\n\u001b[0;32m   1302\u001b[0m \u001b[38;5;28;01mexcept\u001b[39;00m \u001b[38;5;167;01mKeyboardInterrupt\u001b[39;00m:\n\u001b[0;32m   1303\u001b[0m     \u001b[38;5;66;03m# re-raise KeyboardInterrupt, to truncate traceback\u001b[39;00m\n\u001b[0;32m   1304\u001b[0m     msg \u001b[38;5;241m=\u001b[39m \u001b[38;5;124m\"\u001b[39m\u001b[38;5;124mInterrupted by user\u001b[39m\u001b[38;5;124m\"\u001b[39m\n\u001b[1;32m-> 1305\u001b[0m     \u001b[38;5;28;01mraise\u001b[39;00m \u001b[38;5;167;01mKeyboardInterrupt\u001b[39;00m(msg) \u001b[38;5;28;01mfrom\u001b[39;00m \u001b[38;5;28;01mNone\u001b[39;00m\n\u001b[0;32m   1306\u001b[0m \u001b[38;5;28;01mexcept\u001b[39;00m \u001b[38;5;167;01mException\u001b[39;00m:\n\u001b[0;32m   1307\u001b[0m     \u001b[38;5;28mself\u001b[39m\u001b[38;5;241m.\u001b[39mlog\u001b[38;5;241m.\u001b[39mwarning(\u001b[38;5;124m\"\u001b[39m\u001b[38;5;124mInvalid Message:\u001b[39m\u001b[38;5;124m\"\u001b[39m, exc_info\u001b[38;5;241m=\u001b[39m\u001b[38;5;28;01mTrue\u001b[39;00m)\n",
      "\u001b[1;31mKeyboardInterrupt\u001b[0m: Interrupted by user"
     ]
    }
   ],
   "source": [
    "import sys\n",
    "product_details ={}\n",
    "sold_prod = {}\n",
    "main()\n",
    "print(product_details)"
   ]
  },
  {
   "cell_type": "code",
   "execution_count": 1,
   "id": "f74f5258-8da9-42e6-b9b9-76aaac8abd97",
   "metadata": {},
   "outputs": [
    {
     "name": "stdout",
     "output_type": "stream",
     "text": [
      "1\n",
      "2\n",
      "3\n",
      "4\n",
      "5\n",
      "6\n",
      "7\n",
      "8\n",
      "9\n"
     ]
    }
   ],
   "source": [
    "for i in range(1,10):\n",
    "    if i==5:\n",
    "        exit()\n",
    "    print(i)"
   ]
  },
  {
   "cell_type": "code",
   "execution_count": 4,
   "id": "5e9ac211-e911-4607-b9f3-2c1dd8a2d109",
   "metadata": {},
   "outputs": [
    {
     "name": "stdin",
     "output_type": "stream",
     "text": [
      "Enter the option1to3: 3\n"
     ]
    },
    {
     "name": "stdout",
     "output_type": "stream",
     "text": [
      "bye\n",
      "python\n"
     ]
    }
   ],
   "source": [
    "option = int(input(\"Enter the option1to3:\"))\n",
    "if option==1:\n",
    "    print(\"hello\")\n",
    "elif option==2:\n",
    "    print(\"Welcome\")\n",
    "elif option==3:\n",
    "    print(\"bye\")\n",
    "    exit()\n",
    "else:\n",
    "    print(\"Invalid\")\n",
    "\n",
    "print(\"python\")\n",
    "    "
   ]
  },
  {
   "cell_type": "code",
   "execution_count": null,
   "id": "661c83f8-404d-4623-9570-21678e05d82e",
   "metadata": {},
   "outputs": [],
   "source": []
  }
 ],
 "metadata": {
  "kernelspec": {
   "display_name": "Python 3 (ipykernel)",
   "language": "python",
   "name": "python3"
  },
  "language_info": {
   "codemirror_mode": {
    "name": "ipython",
    "version": 3
   },
   "file_extension": ".py",
   "mimetype": "text/x-python",
   "name": "python",
   "nbconvert_exporter": "python",
   "pygments_lexer": "ipython3",
   "version": "3.11.7"
  }
 },
 "nbformat": 4,
 "nbformat_minor": 5
}
