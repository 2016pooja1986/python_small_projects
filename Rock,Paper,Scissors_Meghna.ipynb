{
 "cells": [
  {
   "cell_type": "code",
   "execution_count": 1,
   "id": "97b545a7",
   "metadata": {},
   "outputs": [
    {
     "name": "stdout",
     "output_type": "stream",
     "text": [
      "rock, paper or scissors? pick one- paper\n",
      "computer chose scissors\n",
      "computer wins\n"
     ]
    }
   ],
   "source": [
    "import random\n",
    "player1= input(\"rock, paper or scissors? pick one- \").lower()\n",
    "lst=[\"rock\", \"paper\", \"scissors\"]\n",
    "player2= random.choice(lst)\n",
    "print(f\"computer chose {player2}\")\n",
    "for i in lst:\n",
    "  if player2==player1:\n",
    "    print(\"no one wins,you can play again\")\n",
    "  elif player2== \"rock\":\n",
    "    print(\"you win\") if player1==\"paper\" else print(\"computer wins\")\n",
    "  elif player2==\"paper\":\n",
    "    print(\"computer wins\") if player1==\"rock\" else print(\"you win\")\n",
    "  else:\n",
    "    print(\"you win\") if player1==\"rock\" else print(\"computer wins\")\n",
    "  break"
   ]
  },
  {
   "cell_type": "code",
   "execution_count": null,
   "id": "7c1bad2a",
   "metadata": {},
   "outputs": [],
   "source": []
  }
 ],
 "metadata": {
  "kernelspec": {
   "display_name": "Python 3 (ipykernel)",
   "language": "python",
   "name": "python3"
  },
  "language_info": {
   "codemirror_mode": {
    "name": "ipython",
    "version": 3
   },
   "file_extension": ".py",
   "mimetype": "text/x-python",
   "name": "python",
   "nbconvert_exporter": "python",
   "pygments_lexer": "ipython3",
   "version": "3.11.5"
  }
 },
 "nbformat": 4,
 "nbformat_minor": 5
}
