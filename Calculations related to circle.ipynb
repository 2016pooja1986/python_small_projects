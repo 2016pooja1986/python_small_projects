{
 "cells": [
  {
   "cell_type": "code",
   "execution_count": null,
   "id": "838d0386",
   "metadata": {},
   "outputs": [],
   "source": [
    "import math\n",
    "\n",
    "def circle():\n",
    "    \n",
    "    choices = ['Area','Circumference','Diameter','all']\n",
    "    for i,choice in enumerate(choices):\n",
    "        print(i,choice)\n",
    "        \n",
    "    option = int(input('Enter your choice: ')) \n",
    "    radius = float(input('Enter the radius in cms'))\n",
    "    \n",
    "    area = math.pi*radius**2 \n",
    "    circumference = 2*math.pi*radius\n",
    "    diameter = 2*radius\n",
    "    \n",
    "    if option==0:\n",
    "        return area\n",
    "    elif option==1:\n",
    "        return circumference\n",
    "    elif option==2:\n",
    "        return diameter\n",
    "    elif option==3:\n",
    "        return f'Area= {area}sqcm; Circumference={circumference}cms;Diameter={diameter}cms'\n",
    "    \n",
    "def rect(length,width,measurement):\n",
    "    '''length and width in cms. Measurements are area ,perimeter ,diagonal or all as a string values.'''\n",
    "     \n",
    "    area = length*width\n",
    "    perimeter = 2*(length+width)\n",
    "    diagonal = math.sqrt((length**2+width**2))\n",
    "    \n",
    "    if measurement =='area':\n",
    "        return area\n",
    "    if measurement =='perimeter':\n",
    "        return perimeter\n",
    "    if measurement =='diagonal':\n",
    "        return diagonal\n",
    "    if measurement =='all':\n",
    "        return f'Area={area};Perimeter={perimeter};Diagonal={diagonal}'"
   ]
  }
 ],
 "metadata": {
  "kernelspec": {
   "display_name": "Python 3 (ipykernel)",
   "language": "python",
   "name": "python3"
  },
  "language_info": {
   "codemirror_mode": {
    "name": "ipython",
    "version": 3
   },
   "file_extension": ".py",
   "mimetype": "text/x-python",
   "name": "python",
   "nbconvert_exporter": "python",
   "pygments_lexer": "ipython3",
   "version": "3.11.5"
  }
 },
 "nbformat": 4,
 "nbformat_minor": 5
}
