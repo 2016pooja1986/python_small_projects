{
 "cells": [
  {
   "cell_type": "code",
   "execution_count": 1,
   "id": "7070d15e",
   "metadata": {},
   "outputs": [
    {
     "name": "stdout",
     "output_type": "stream",
     "text": [
      "Requirement already satisfied: pyqrcode in c:\\users\\asus\\anaconda3\\lib\\site-packages (1.2.1)\n"
     ]
    }
   ],
   "source": [
    "! pip install pyqrcode"
   ]
  },
  {
   "cell_type": "code",
   "execution_count": 2,
   "id": "fb3aef50",
   "metadata": {},
   "outputs": [
    {
     "name": "stdout",
     "output_type": "stream",
     "text": [
      "Requirement already satisfied: pypng in c:\\users\\asus\\anaconda3\\lib\\site-packages (0.20220715.0)\n"
     ]
    }
   ],
   "source": [
    "!pip install pypng"
   ]
  },
  {
   "cell_type": "code",
   "execution_count": 3,
   "id": "fdfe1a03",
   "metadata": {},
   "outputs": [],
   "source": [
    "import pyqrcode\n",
    "from pyqrcode import QRCode\n",
    "import png\n"
   ]
  },
  {
   "cell_type": "code",
   "execution_count": 4,
   "id": "fd9d3959",
   "metadata": {},
   "outputs": [],
   "source": [
    "s=\"www.geeksforgeeks.org\""
   ]
  },
  {
   "cell_type": "code",
   "execution_count": 5,
   "id": "597a4b29",
   "metadata": {},
   "outputs": [],
   "source": [
    "url = pyqrcode.create(s)\n",
    "\n",
    "url.svg(\"myqr.svg\",scale=8)"
   ]
  },
  {
   "cell_type": "code",
   "execution_count": 6,
   "id": "fefd3c1b",
   "metadata": {},
   "outputs": [],
   "source": [
    "url.png(\"myqr.png\",scale=6)"
   ]
  },
  {
   "cell_type": "code",
   "execution_count": null,
   "id": "d4ba288c",
   "metadata": {},
   "outputs": [],
   "source": []
  }
 ],
 "metadata": {
  "kernelspec": {
   "display_name": "Python 3 (ipykernel)",
   "language": "python",
   "name": "python3"
  },
  "language_info": {
   "codemirror_mode": {
    "name": "ipython",
    "version": 3
   },
   "file_extension": ".py",
   "mimetype": "text/x-python",
   "name": "python",
   "nbconvert_exporter": "python",
   "pygments_lexer": "ipython3",
   "version": "3.11.5"
  }
 },
 "nbformat": 4,
 "nbformat_minor": 5
}
